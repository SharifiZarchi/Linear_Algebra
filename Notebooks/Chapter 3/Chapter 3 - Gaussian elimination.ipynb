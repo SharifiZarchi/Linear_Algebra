{
 "cells": [
  {
   "cell_type": "markdown",
   "id": "1d53e417",
   "metadata": {},
   "source": [
    "<link rel=\"stylesheet\" href=\"style.css\">\n",
    "\n",
    "<div class=\"title\">\n",
    "    <div dir=\"rtl\" align=\"center\">\n",
    "        به‌نام زیباترین\n",
    "    </div>\n",
    "    <div dir=\"rtl\" align=\"center\">\n",
    "        دانشگاه صنعتی شریف - دانشکده‌ی مهندسی کامپیوتر\n",
    "    </div>\n",
    "    <div dir=\"rtl\" align=\"center\" style=\"font-size:30pt;margin-bottom:10mm;font-weight:bold;\">\n",
    "        جبرخطی\n",
    "    </div>\n",
    "    <div dir=\"rtl\" align=\"center\">\n",
    "        فصل سوم: روش حذف گاوس-جردن\n",
    "    </div>\n",
    "    <div dir=\"rtl\" align=\"center\">\n",
    "        علی شریفی\n",
    "        <hr>\n",
    "    </div>\n",
    "</div>\n"
   ]
  },
  {
   "cell_type": "markdown",
   "id": "591e59a2",
   "metadata": {},
   "source": [
    "<link rel=\"stylesheet\" href=\"style.css\">\n",
    "\n",
    "<div class=\"cell rtl-align\" id=\"table_of_content\">\n",
    "\n",
    "## فهرست مطالب\n",
    "\n",
    "- [نمایش ماتریسی عملیات حذف](#sec_matrix_elimination)\n",
    "- [ماتریس افزوده](#sec_augmented_matrix)\n",
    "- [حل معادله $Ax=b$](#sec_ax_b)\n",
    "- [بدست آوردن معکوس ماتریس](#sec_inverse_matrix)\n",
    "- [تجزیه LU ماتریس مربعی](#sec_lu_decompose)\n",
    "- [تجزیه LDU ماتریس مربعی](#sec_ldu_decompose)\n",
    "- [فرم سطری یکانی](#sec_rref)\n",
    "- [منابع](#sec_resources)\n",
    "\n",
    "</div>"
   ]
  },
  {
   "cell_type": "markdown",
   "id": "fc215169",
   "metadata": {},
   "source": [
    "<link rel=\"stylesheet\" href=\"style.css\">\n",
    "\n",
    "<div class=\"cell rtl-align\" id=\"sec_resources\">\n",
    "\n",
    "## منابع\n",
    "\n",
    "- **منبع اول**\n",
    "- **منبع دوم**\n",
    "- **منبع سوم**\n",
    "- **منبع چهارم**\n",
    "\n",
    "[بازگشت به فهرست مطالب](#table_of_content)\n",
    "\n",
    "<div>"
   ]
  }
 ],
 "metadata": {
  "kernelspec": {
   "display_name": "Python 3 (ipykernel)",
   "language": "python",
   "name": "python3"
  },
  "language_info": {
   "codemirror_mode": {
    "name": "ipython",
    "version": 3
   },
   "file_extension": ".py",
   "mimetype": "text/x-python",
   "name": "python",
   "nbconvert_exporter": "python",
   "pygments_lexer": "ipython3",
   "version": "3.10.11"
  }
 },
 "nbformat": 4,
 "nbformat_minor": 5
}
